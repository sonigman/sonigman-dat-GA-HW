{
 "cells": [
  {
   "cell_type": "markdown",
   "metadata": {},
   "source": [
    "# Project 4\n",
    "\n",
    "In this project, you will summarize and present your analysis from Projects 1-3."
   ]
  },
  {
   "cell_type": "markdown",
   "metadata": {},
   "source": [
    "### Intro: Write a problem Statement/ Specific Aim for this project"
   ]
  },
  {
   "cell_type": "markdown",
   "metadata": {},
   "source": [
    "Answer: The goal of this project was to determine which features had the strongest impact on being admitted into UCLA for graduate school. We are looking to predict whether an applicant will be admitted based on their GRE, GPA, and rank from their undergraduate institution."
   ]
  },
  {
   "cell_type": "markdown",
   "metadata": {},
   "source": [
    "### Dataset:  Write up a description of your data and any cleaning that was completed"
   ]
  },
  {
   "cell_type": "markdown",
   "metadata": {},
   "source": [
    "Answer: This data contains four variables: admit, gre, gpa, and prestige (see below for data dictionary with variable descriptions). The admit variable is what we are predicting in this analysis and is a binary. GRE and GPA are continuous variables that we do not manipulate before using the data in our analysis. The prestige variable is broken out into four different categories/classes, in order to prevent collinearity we turn prestige into a dummy variable and drop one of them. The final step of data cleaning is dropping any rows with nas (missing data). As far as distributions of the data goes, GPA is negatively skewed as the median is greater than the mean value, GRE is positively skewed as the median is less than the mean, and Prestige is positively skewed."
   ]
  },
  {
   "cell_type": "markdown",
   "metadata": {},
   "source": [
    "### Data Dictionary\n",
    "\n",
    "Variable | Description | Type of Variable\n",
    "---| ---| ---\n",
    "*Admit* | 0 = not admitted to the program 1 = admitted to the program, this is our binary target variable and is the outcome of the admissions data set | binary\n",
    "*GRE* | the GRE score of the candidate (stands for Graduate Record examinations - is a standardized exam for graduate school entrance and application)  | continuous\n",
    "*GPA* | the GPA score of the candidate (stands for grade point average, an average taken across all classes of the candidate in their undergraduate schooling) | continuous\n",
    "*Prestige* | the ranking of an applicant's undergraduate school | discrete \n"
   ]
  },
  {
   "cell_type": "markdown",
   "metadata": {
    "collapsed": true
   },
   "source": [
    "### Demo: Provide a table that explains the data by admission status"
   ]
  },
  {
   "cell_type": "code",
   "execution_count": 3,
   "metadata": {},
   "outputs": [
    {
     "name": "stderr",
     "output_type": "stream",
     "text": [
      "/anaconda/lib/python2.7/site-packages/statsmodels/compat/pandas.py:56: FutureWarning: The pandas.core.datetools module is deprecated and will be removed in a future version. Please use the pandas.tseries module instead.\n",
      "  from pandas.core import datetools\n"
     ]
    }
   ],
   "source": [
    "%matplotlib inline\n",
    "import matplotlib.pyplot as plt\n",
    "import pandas as pd\n",
    "import statsmodels.api as sm\n",
    "import pylab as pl\n",
    "import numpy as np\n",
    "import os"
   ]
  },
  {
   "cell_type": "markdown",
   "metadata": {},
   "source": [
    "Mean (STD) or counts by admission status for each variable \n",
    "\n",
    "| Not Admitted | Admitted\n",
    "---| ---|---\n",
    "GPA | mean(std)  | mean(std)\n",
    "GRE |mean(std) | mean(std)\n",
    "Prestige 1 | frequency (%) | frequency (%)\n",
    "Prestige 2 | frequency (%) | frequency (%)\n",
    "Prestige 3 |frequency (%) | frequency (%)\n",
    "Prestige 4 |frequency (%) | frequency (%)"
   ]
  },
  {
   "cell_type": "code",
   "execution_count": 24,
   "metadata": {},
   "outputs": [
    {
     "data": {
      "text/html": [
       "<div>\n",
       "<style>\n",
       "    .dataframe thead tr:only-child th {\n",
       "        text-align: right;\n",
       "    }\n",
       "\n",
       "    .dataframe thead th {\n",
       "        text-align: left;\n",
       "    }\n",
       "\n",
       "    .dataframe tbody tr th {\n",
       "        vertical-align: top;\n",
       "    }\n",
       "</style>\n",
       "<table border=\"1\" class=\"dataframe\">\n",
       "  <thead>\n",
       "    <tr style=\"text-align: right;\">\n",
       "      <th></th>\n",
       "      <th>admit</th>\n",
       "      <th>gre</th>\n",
       "      <th>gpa</th>\n",
       "      <th>prestige_1.0</th>\n",
       "      <th>prestige_2.0</th>\n",
       "      <th>prestige_3.0</th>\n",
       "      <th>prestige_4.0</th>\n",
       "    </tr>\n",
       "  </thead>\n",
       "  <tbody>\n",
       "    <tr>\n",
       "      <th>0</th>\n",
       "      <td>0</td>\n",
       "      <td>380.0</td>\n",
       "      <td>3.61</td>\n",
       "      <td>0</td>\n",
       "      <td>0</td>\n",
       "      <td>1</td>\n",
       "      <td>0</td>\n",
       "    </tr>\n",
       "    <tr>\n",
       "      <th>1</th>\n",
       "      <td>1</td>\n",
       "      <td>660.0</td>\n",
       "      <td>3.67</td>\n",
       "      <td>0</td>\n",
       "      <td>0</td>\n",
       "      <td>1</td>\n",
       "      <td>0</td>\n",
       "    </tr>\n",
       "    <tr>\n",
       "      <th>2</th>\n",
       "      <td>1</td>\n",
       "      <td>800.0</td>\n",
       "      <td>4.00</td>\n",
       "      <td>1</td>\n",
       "      <td>0</td>\n",
       "      <td>0</td>\n",
       "      <td>0</td>\n",
       "    </tr>\n",
       "    <tr>\n",
       "      <th>3</th>\n",
       "      <td>1</td>\n",
       "      <td>640.0</td>\n",
       "      <td>3.19</td>\n",
       "      <td>0</td>\n",
       "      <td>0</td>\n",
       "      <td>0</td>\n",
       "      <td>1</td>\n",
       "    </tr>\n",
       "    <tr>\n",
       "      <th>4</th>\n",
       "      <td>0</td>\n",
       "      <td>520.0</td>\n",
       "      <td>2.93</td>\n",
       "      <td>0</td>\n",
       "      <td>0</td>\n",
       "      <td>0</td>\n",
       "      <td>1</td>\n",
       "    </tr>\n",
       "  </tbody>\n",
       "</table>\n",
       "</div>"
      ],
      "text/plain": [
       "   admit    gre   gpa  prestige_1.0  prestige_2.0  prestige_3.0  prestige_4.0\n",
       "0      0  380.0  3.61             0             0             1             0\n",
       "1      1  660.0  3.67             0             0             1             0\n",
       "2      1  800.0  4.00             1             0             0             0\n",
       "3      1  640.0  3.19             0             0             0             1\n",
       "4      0  520.0  2.93             0             0             0             1"
      ]
     },
     "execution_count": 24,
     "metadata": {},
     "output_type": "execute_result"
    }
   ],
   "source": [
    "#Data import, cleaning, and dummy-ing\n",
    "df_raw = pd.read_csv(\"/Users/scottonigman/Desktop/GA/homework/sonigman-dat-GA-HW/admissions.csv\")\n",
    "df = df_raw.dropna()\n",
    "dummy_ranks = pd.get_dummies(df['prestige'],prefix='prestige')\n",
    "cols_to_keep = ['admit', 'gre', 'gpa']\n",
    "df_new = df[cols_to_keep].join(dummy_ranks.loc[:,:])\n",
    "df_new.head()"
   ]
  },
  {
   "cell_type": "code",
   "execution_count": 34,
   "metadata": {},
   "outputs": [
    {
     "data": {
      "text/html": [
       "<div>\n",
       "<style>\n",
       "    .dataframe thead tr:only-child th {\n",
       "        text-align: right;\n",
       "    }\n",
       "\n",
       "    .dataframe thead th {\n",
       "        text-align: left;\n",
       "    }\n",
       "\n",
       "    .dataframe tbody tr th {\n",
       "        vertical-align: top;\n",
       "    }\n",
       "</style>\n",
       "<table border=\"1\" class=\"dataframe\">\n",
       "  <thead>\n",
       "    <tr style=\"text-align: right;\">\n",
       "      <th></th>\n",
       "      <th>admit</th>\n",
       "      <th>0</th>\n",
       "      <th>1</th>\n",
       "    </tr>\n",
       "  </thead>\n",
       "  <tbody>\n",
       "    <tr>\n",
       "      <th>prestige_4.0</th>\n",
       "      <th>sum</th>\n",
       "      <td>55.000000</td>\n",
       "      <td>12.000000</td>\n",
       "    </tr>\n",
       "    <tr>\n",
       "      <th>prestige_1.0</th>\n",
       "      <th>sum</th>\n",
       "      <td>28.000000</td>\n",
       "      <td>33.000000</td>\n",
       "    </tr>\n",
       "    <tr>\n",
       "      <th>gpa</th>\n",
       "      <th>mean</th>\n",
       "      <td>3.347159</td>\n",
       "      <td>3.489206</td>\n",
       "    </tr>\n",
       "    <tr>\n",
       "      <th>gre</th>\n",
       "      <th>mean</th>\n",
       "      <td>573.579336</td>\n",
       "      <td>618.571429</td>\n",
       "    </tr>\n",
       "    <tr>\n",
       "      <th>prestige_2.0</th>\n",
       "      <th>sum</th>\n",
       "      <td>95.000000</td>\n",
       "      <td>53.000000</td>\n",
       "    </tr>\n",
       "    <tr>\n",
       "      <th>prestige_3.0</th>\n",
       "      <th>sum</th>\n",
       "      <td>93.000000</td>\n",
       "      <td>28.000000</td>\n",
       "    </tr>\n",
       "  </tbody>\n",
       "</table>\n",
       "</div>"
      ],
      "text/plain": [
       "admit                       0           1\n",
       "prestige_4.0 sum    55.000000   12.000000\n",
       "prestige_1.0 sum    28.000000   33.000000\n",
       "gpa          mean    3.347159    3.489206\n",
       "gre          mean  573.579336  618.571429\n",
       "prestige_2.0 sum    95.000000   53.000000\n",
       "prestige_3.0 sum    93.000000   28.000000"
      ]
     },
     "execution_count": 34,
     "metadata": {},
     "output_type": "execute_result"
    }
   ],
   "source": [
    "#aggregating for this table\n",
    "agglist = {'gre':['mean'], 'gpa':['mean'], 'prestige_1.0':['sum'] , 'prestige_2.0':['sum'], 'prestige_3.0':['sum'], 'prestige_4.0':['sum']}\n",
    "admitstatus = df_new.groupby('admit').agg(agglist)\n",
    "admitstatus.T\n",
    "#I think the frequency % here is off and should be done as count of admit status/row total, woul dbe done with a lamba function included in the agglist object"
   ]
  },
  {
   "cell_type": "markdown",
   "metadata": {},
   "source": [
    "####Random starter code while figuring out how to combine agg functions \n",
    "f = {'A':['sum','mean'], 'B':['prod'], 'D': {'my name': cust}}\n",
    "{'duration':sum,      # find the sum of the durations for each group\n",
    "                                     'network_type': \"count\", # find the number of network type entries\n",
    "                                     'date': 'first'}) \n",
    "\n",
    "\n",
    "air = (df.groupby(['origin', 'dest'])\n",
    "         .agg({'dep_delay': {'dep_mean': 'mean', 'dep_count': 'count'},\n",
    "               'arr_delay': {'arr_mean': 'mean', 'arr_count': 'count'}}))\n",
    "air.columns = air.columns.droplevel()"
   ]
  },
  {
   "cell_type": "markdown",
   "metadata": {},
   "source": [
    "### Methods: Write up the methods used in your analysis"
   ]
  },
  {
   "cell_type": "markdown",
   "metadata": {},
   "source": [
    "Answer:\n",
    "### EDA\n",
    "In order to analyze this data set, we will:\n",
    "0. Write a data dictionary\n",
    "1. Use the describe function on the data set to see the mean, count, standard deviation, minimum value, max value, and quartiles of the data set\n",
    "2. Use the info function to determine the shape of the data set and if there are any missing values\n",
    "3. Visualize the data set with a histogram in order to do a visual check on whether the data is normally distributed\n",
    "4. Visualize the data set to see if there are any relationships between predictors in the data set with each other and the outcome\n",
    "5. Aggregate using group by functions in pandas\n",
    "6. Test the normality of the data set and filter out any outliers using an agreed upon statistical significance (0.05 or 0.01)\n",
    "7. Once this is done, create dummy variables from the prestige variable so that it may be used for logistic regression\n",
    "\n",
    "### Analysis Method\n",
    "1. Import data set\n",
    "2. Clean data using previously described EDA plan\n",
    "3. Reiterating the creation of dummy variables as from the prestige variable since it is discrete\n",
    "4. Fit logistic regression\n",
    "5. Evaluate coefficients and odds ratios in the stats models output\n"
   ]
  },
  {
   "cell_type": "code",
   "execution_count": 27,
   "metadata": {},
   "outputs": [
    {
     "name": "stdout",
     "output_type": "stream",
     "text": [
      "Optimization terminated successfully.\n",
      "         Current function value: 0.573854\n",
      "         Iterations 6\n"
     ]
    }
   ],
   "source": [
    "df_new2 = df[cols_to_keep].join(dummy_ranks.loc[:, 'prestige_2':])\n",
    "df_new2['intercept'] = 1.0\n",
    "train_cols = df_new2.columns[1:]\n",
    "logit = sm.Logit(df_new2['admit'], df_new2[train_cols])\n",
    "result = logit.fit()"
   ]
  },
  {
   "cell_type": "markdown",
   "metadata": {},
   "source": [
    "### Results: Write up your results"
   ]
  },
  {
   "cell_type": "markdown",
   "metadata": {},
   "source": [
    "Answer: For every one unit increase in gre, the chance of being admitted increases by 0.002, for every unit increase in gpa, the chance of being admitted increases by 0.77. If the candidate attends prestige schools of 2,3, or 4, their chances of being admitted decrease by .68, 1.33 or 1.55 if they attended each of these respective undergrad schools"
   ]
  },
  {
   "cell_type": "markdown",
   "metadata": {},
   "source": [
    "### Visuals: Provide a table or visualization of these results"
   ]
  },
  {
   "cell_type": "markdown",
   "metadata": {},
   "source": [
    "<img src='placeholder.png' height= 25% width= 25%>"
   ]
  },
  {
   "cell_type": "code",
   "execution_count": 28,
   "metadata": {},
   "outputs": [
    {
     "name": "stdout",
     "output_type": "stream",
     "text": [
      "                           Logit Regression Results                           \n",
      "==============================================================================\n",
      "Dep. Variable:                  admit   No. Observations:                  397\n",
      "Model:                          Logit   Df Residuals:                      391\n",
      "Method:                           MLE   Df Model:                            5\n",
      "Date:                Wed, 30 Aug 2017   Pseudo R-squ.:                 0.08166\n",
      "Time:                        18:12:31   Log-Likelihood:                -227.82\n",
      "converged:                       True   LL-Null:                       -248.08\n",
      "                                        LLR p-value:                 1.176e-07\n",
      "================================================================================\n",
      "                   coef    std err          z      P>|z|      [0.025      0.975]\n",
      "--------------------------------------------------------------------------------\n",
      "gre              0.0022      0.001      2.028      0.043    7.44e-05       0.004\n",
      "gpa              0.7793      0.333      2.344      0.019       0.128       1.431\n",
      "prestige_2.0    -0.6801      0.317     -2.146      0.032      -1.301      -0.059\n",
      "prestige_3.0    -1.3387      0.345     -3.882      0.000      -2.015      -0.663\n",
      "prestige_4.0    -1.5534      0.417     -3.721      0.000      -2.372      -0.735\n",
      "intercept       -3.8769      1.142     -3.393      0.001      -6.116      -1.638\n",
      "================================================================================\n"
     ]
    }
   ],
   "source": [
    "print result.summary()"
   ]
  },
  {
   "cell_type": "markdown",
   "metadata": {},
   "source": [
    "### Discussion: Write up your discussion and future steps"
   ]
  },
  {
   "cell_type": "markdown",
   "metadata": {},
   "source": [
    "Answer: Since this model didn't have a particularly good fit, I would try to engineer other features from those that currently exist. I would also try to figure out if there are any relationships between gre and gpa, gpa and prestige, or gre and prestige that could explain any tradeoffs one could make in attending one undergrad institution over another in order to boost potential graduate admissions. One could also incorporate other data sets to join on, for example demographic data or more years of data that could yield more accurate predictions. Finally, one could try a random forest algorithm to make a prediction, but be sure to limit the number of trees as this is a small data set and could be easily over fit."
   ]
  }
 ],
 "metadata": {
  "kernelspec": {
   "display_name": "Python 2",
   "language": "python",
   "name": "python2"
  },
  "language_info": {
   "codemirror_mode": {
    "name": "ipython",
    "version": 2
   },
   "file_extension": ".py",
   "mimetype": "text/x-python",
   "name": "python",
   "nbconvert_exporter": "python",
   "pygments_lexer": "ipython2",
   "version": "2.7.13"
  }
 },
 "nbformat": 4,
 "nbformat_minor": 1
}
